{
 "cells": [
  {
   "cell_type": "markdown",
   "id": "2a4a5f83",
   "metadata": {},
   "source": [
    "# Language Model- Bi_LSTM (Keras)\n",
    "### Written by: Rodrigo Escandon"
   ]
  },
  {
   "cell_type": "code",
   "execution_count": null,
   "id": "b1c8eda8",
   "metadata": {},
   "outputs": [],
   "source": []
  },
  {
   "cell_type": "markdown",
   "id": "6a5b1310",
   "metadata": {},
   "source": [
    "# Executive Summary\n",
    "\n",
    "A Natural Language Processing model was developed using Machine Learning to determine the probability of the words that follow the previously provided. This model was trained on nursery rhymes and the intent is for the model to effectively predict the next word in the rhyme. This model was created using Python (Keras (Tensorflow backend), Numpy) to structure and analyze the data set.\n",
    "\n",
    "## Model Performance\n",
    "\n",
    "The accuracy of the model predicting the next word for the two nursery rhymes that have been provided was 100%. \n",
    "In this example, the model that was created used Tensorflow as its evaluator. This tensor based model used the LSTM architecture and a bi-directional approach for evaluating the text. Single predictors were created to predict the nursery rhymes and parts of the nursery rhymes. This model was successful at predicting both. It is worth noting that the single predictor with the final verse is asking for a number of words that exceed the ones available within the verse. This is done on purpose to show that the model is capable of detecting this issue and can end its word generation.\n"
   ]
  },
  {
   "cell_type": "code",
   "execution_count": 1,
   "id": "12afaf2b",
   "metadata": {},
   "outputs": [],
   "source": [
    "import numpy as np\n",
    "from numpy import array\n",
    "import keras\n",
    "import tensorflow as tf\n",
    "from keras.preprocessing.text import Tokenizer\n",
    "from keras.utils import to_categorical, pad_sequences\n",
    "#from keras.preprocessing.sequence import pad_sequences\n",
    "from keras.models import Sequential\n",
    "from keras.layers import Dense\n",
    "from keras.layers import LSTM\n",
    "from keras.layers import Embedding"
   ]
  },
  {
   "cell_type": "code",
   "execution_count": 2,
   "id": "9a64c51f",
   "metadata": {},
   "outputs": [],
   "source": [
    "# Generating a sequence from a language model\n",
    "def generate_seq(model, tokenizer, max_length, seed_text, n_words):\n",
    "    in_text = seed_text\n",
    "    # generate a fixed number of words\n",
    "    for i in range(n_words):\n",
    "    # encode the text as integer\n",
    "        encoded = tokenizer.texts_to_sequences([in_text])[0]\n",
    "    # pre-pad sequences to a fixed length\n",
    "        encoded = pad_sequences([encoded], maxlen=max_length, padding='post')\n",
    "    # predict probabilities for each word\n",
    "        #yhat = model.predict_classes(encoded, verbose=0)\n",
    "        result = np.argmax(model.predict(encoded, verbose=0))\n",
    "    # map predicted word index to word\n",
    "        out_word = ''\n",
    "        for word, index in tokenizer.word_index.items():\n",
    "            if index == result:\n",
    "                in_text=in_text+' '+ word\n",
    "    return in_text"
   ]
  },
  {
   "cell_type": "code",
   "execution_count": 3,
   "id": "3e91cbba",
   "metadata": {},
   "outputs": [
    {
     "name": "stdout",
     "output_type": "stream",
     "text": [
      "Vocabulary Size: 44\n",
      "Total Sequences: 59\n",
      "Max Sequence Length: 5\n"
     ]
    }
   ],
   "source": [
    "# source text\n",
    "data = [\"\"\" Jack and Jill went up the hill\\n\n",
    " To fetch a pail of water\\n\n",
    " Jack fell down and broke his crown\\n\n",
    " And Jill came tumbling after\\n \"\"\",\n",
    "\"\"\"Baa, baa, black sheep\\n\n",
    " Have you any wool?\\n\n",
    " Yes sir, yes sir\\n\n",
    " Three bags full.\\n\n",
    " One for my master\\n\n",
    " And one for the dame\\n\n",
    " One for the little boy\\n\n",
    " Who lives down the lane.\"\"\"]\n",
    "# integer encode sequences of words\n",
    "tokenizer = Tokenizer()\n",
    "tokenizer.fit_on_texts(data)\n",
    "encoded = tokenizer.texts_to_sequences(data)\n",
    "# retrieve vocabulary size\n",
    "vocab_size = len(tokenizer.word_index) + 1\n",
    "print('Vocabulary Size: %d' % vocab_size)\n",
    "# encode 4 words -> 1 word\n",
    "sequences = list()\n",
    "for a in range(len(encoded)):\n",
    "    for i in range(len(encoded[a])):\n",
    "        sequence = encoded[a][i:i+5]\n",
    "        sequences.append(sequence)\n",
    "print('Total Sequences: %d' % len(sequences))\n",
    "# pad sequences\n",
    "max_length = max([len(seq) for seq in sequences])\n",
    "sequences = pad_sequences(sequences, maxlen=max_length, padding='post')\n",
    "print('Max Sequence Length: %d' % max_length)"
   ]
  },
  {
   "cell_type": "code",
   "execution_count": 4,
   "id": "b142085e",
   "metadata": {},
   "outputs": [],
   "source": [
    "# Splitting input and output elements\n",
    "sequences = array(sequences)\n",
    "X, y = sequences[:,:-1],sequences[:,-1]\n",
    "y = to_categorical(y, num_classes=vocab_size)"
   ]
  },
  {
   "cell_type": "code",
   "execution_count": 5,
   "id": "ecb52e4f",
   "metadata": {},
   "outputs": [
    {
     "name": "stdout",
     "output_type": "stream",
     "text": [
      "Model: \"sequential\"\n",
      "_________________________________________________________________\n",
      " Layer (type)                Output Shape              Param #   \n",
      "=================================================================\n",
      " embedding (Embedding)       (None, 4, 10)             440       \n",
      "                                                                 \n",
      " bidirectional (Bidirectiona  (None, 100)              24400     \n",
      " l)                                                              \n",
      "                                                                 \n",
      " dense (Dense)               (None, 44)                4444      \n",
      "                                                                 \n",
      "=================================================================\n",
      "Total params: 29,284\n",
      "Trainable params: 29,284\n",
      "Non-trainable params: 0\n",
      "_________________________________________________________________\n",
      "None\n"
     ]
    }
   ],
   "source": [
    "# Model Creation, Compiling and Summary\n",
    "#The LSTM function is the RNN architecture that will be used to the Neural Network.\n",
    "#A bi-directionality component has been adde to evaluate both directions of the sentence.\n",
    "#The Softmax function is used for the output layer\n",
    "model = Sequential()\n",
    "model.add(Embedding(vocab_size, 10, input_length=max_length-1))\n",
    "model.add(keras.layers.Bidirectional(LSTM(50,dropout=0.15,recurrent_dropout=0.15)))\n",
    "model.add(Dense(vocab_size, activation='softmax'))\n",
    "model.compile(loss='categorical_crossentropy', optimizer='adam', metrics=['accuracy'])\n",
    "print(model.summary())"
   ]
  },
  {
   "cell_type": "code",
   "execution_count": 10,
   "id": "86fad174",
   "metadata": {},
   "outputs": [
    {
     "name": "stdout",
     "output_type": "stream",
     "text": [
      "Epoch 1/250\n",
      "2/2 - 0s - loss: 0.5208 - accuracy: 0.8983 - 26ms/epoch - 13ms/step\n",
      "Epoch 2/250\n",
      "2/2 - 0s - loss: 0.4575 - accuracy: 0.9153 - 37ms/epoch - 18ms/step\n",
      "Epoch 3/250\n",
      "2/2 - 0s - loss: 0.4866 - accuracy: 0.8814 - 37ms/epoch - 18ms/step\n",
      "Epoch 4/250\n",
      "2/2 - 0s - loss: 0.4848 - accuracy: 0.8983 - 32ms/epoch - 16ms/step\n",
      "Epoch 5/250\n",
      "2/2 - 0s - loss: 0.4824 - accuracy: 0.9153 - 32ms/epoch - 16ms/step\n",
      "Epoch 6/250\n",
      "2/2 - 0s - loss: 0.4450 - accuracy: 0.9322 - 24ms/epoch - 12ms/step\n",
      "Epoch 7/250\n",
      "2/2 - 0s - loss: 0.4430 - accuracy: 0.9661 - 43ms/epoch - 21ms/step\n",
      "Epoch 8/250\n",
      "2/2 - 0s - loss: 0.4612 - accuracy: 0.9322 - 33ms/epoch - 16ms/step\n",
      "Epoch 9/250\n",
      "2/2 - 0s - loss: 0.4188 - accuracy: 0.9322 - 28ms/epoch - 14ms/step\n",
      "Epoch 10/250\n",
      "2/2 - 0s - loss: 0.4023 - accuracy: 0.9492 - 31ms/epoch - 15ms/step\n",
      "Epoch 11/250\n",
      "2/2 - 0s - loss: 0.4058 - accuracy: 0.9322 - 34ms/epoch - 17ms/step\n",
      "Epoch 12/250\n",
      "2/2 - 0s - loss: 0.3933 - accuracy: 0.9492 - 35ms/epoch - 17ms/step\n",
      "Epoch 13/250\n",
      "2/2 - 0s - loss: 0.3573 - accuracy: 0.9661 - 25ms/epoch - 12ms/step\n",
      "Epoch 14/250\n",
      "2/2 - 0s - loss: 0.3821 - accuracy: 0.9661 - 35ms/epoch - 17ms/step\n",
      "Epoch 15/250\n",
      "2/2 - 0s - loss: 0.4138 - accuracy: 0.9322 - 30ms/epoch - 15ms/step\n",
      "Epoch 16/250\n",
      "2/2 - 0s - loss: 0.3624 - accuracy: 0.9322 - 29ms/epoch - 14ms/step\n",
      "Epoch 17/250\n",
      "2/2 - 0s - loss: 0.3310 - accuracy: 0.9831 - 36ms/epoch - 18ms/step\n",
      "Epoch 18/250\n",
      "2/2 - 0s - loss: 0.3309 - accuracy: 0.9661 - 30ms/epoch - 15ms/step\n",
      "Epoch 19/250\n",
      "2/2 - 0s - loss: 0.3802 - accuracy: 0.9492 - 31ms/epoch - 15ms/step\n",
      "Epoch 20/250\n",
      "2/2 - 0s - loss: 0.3671 - accuracy: 0.9492 - 26ms/epoch - 13ms/step\n",
      "Epoch 21/250\n",
      "2/2 - 0s - loss: 0.3565 - accuracy: 0.9661 - 34ms/epoch - 17ms/step\n",
      "Epoch 22/250\n",
      "2/2 - 0s - loss: 0.3522 - accuracy: 0.9153 - 28ms/epoch - 14ms/step\n",
      "Epoch 23/250\n",
      "2/2 - 0s - loss: 0.3242 - accuracy: 0.9661 - 33ms/epoch - 16ms/step\n",
      "Epoch 24/250\n",
      "2/2 - 0s - loss: 0.3624 - accuracy: 0.9492 - 31ms/epoch - 15ms/step\n",
      "Epoch 25/250\n",
      "2/2 - 0s - loss: 0.3262 - accuracy: 0.9831 - 22ms/epoch - 11ms/step\n",
      "Epoch 26/250\n",
      "2/2 - 0s - loss: 0.3684 - accuracy: 0.9322 - 36ms/epoch - 18ms/step\n",
      "Epoch 27/250\n",
      "2/2 - 0s - loss: 0.3001 - accuracy: 1.0000 - 35ms/epoch - 17ms/step\n",
      "Epoch 28/250\n",
      "2/2 - 0s - loss: 0.3233 - accuracy: 0.9153 - 29ms/epoch - 14ms/step\n",
      "Epoch 29/250\n",
      "2/2 - 0s - loss: 0.3229 - accuracy: 0.9492 - 33ms/epoch - 16ms/step\n",
      "Epoch 30/250\n",
      "2/2 - 0s - loss: 0.3388 - accuracy: 0.9322 - 36ms/epoch - 18ms/step\n",
      "Epoch 31/250\n",
      "2/2 - 0s - loss: 0.3124 - accuracy: 0.9661 - 31ms/epoch - 15ms/step\n",
      "Epoch 32/250\n",
      "2/2 - 0s - loss: 0.3103 - accuracy: 0.9831 - 41ms/epoch - 20ms/step\n"
     ]
    },
    {
     "data": {
      "text/plain": [
       "<keras.callbacks.History at 0x1a06216d8e0>"
      ]
     },
     "execution_count": 10,
     "metadata": {},
     "output_type": "execute_result"
    }
   ],
   "source": [
    "# Model Fitting\n",
    "call=tf.keras.callbacks.EarlyStopping(monitor='loss',patience=5,restore_best_weights=True)\n",
    "model.fit(X, y, epochs=250, verbose=2, callbacks=[call])"
   ]
  },
  {
   "cell_type": "code",
   "execution_count": 11,
   "id": "ee7ce510",
   "metadata": {},
   "outputs": [
    {
     "name": "stdout",
     "output_type": "stream",
     "text": [
      "Jack and Jill went up the hill to fetch a pail of water jack fell down and broke his crown and jill came tumbling after\n",
      "fell down and broke his crown and jill came\n",
      "pail of water Jack fell down and broke his\n",
      "And Jill came tumbling after\n"
     ]
    }
   ],
   "source": [
    "# Single predictor, trying to predict a specific number of words (22,5,5,5) after the single four word statement\n",
    "# The first predictor is predicting the full nursery rhyme\n",
    "# The last predictor with the final verse is asking for a number of words that exceed the ones available within the verse.\n",
    "print(generate_seq(model, tokenizer, max_length-1, 'Jack and Jill went', 22))\n",
    "print(generate_seq(model, tokenizer, max_length-1, 'fell down and broke', 5))\n",
    "print(generate_seq(model, tokenizer, max_length-1, 'pail of water Jack', 5))\n",
    "print(generate_seq(model, tokenizer, max_length-1, 'And Jill came tumbling', 5))"
   ]
  },
  {
   "cell_type": "code",
   "execution_count": 12,
   "id": "0b500bca",
   "metadata": {},
   "outputs": [
    {
     "name": "stdout",
     "output_type": "stream",
     "text": [
      "Baa baa black sheep have you any wool yes sir yes sir three bags full one for my master and one for the dame one for the little boy who lives down the lane\n",
      "for my master and one for the dame one\n",
      "one for the dame one for the little boy\n",
      "boy who lives down the lane\n"
     ]
    }
   ],
   "source": [
    "# Single predictor, trying to predict a specific number of words (31,5,5,5) after the single four word statement\n",
    "# The first predictor is predicting the full nursery rhyme\n",
    "# The last predictor with the final verse is asking for a number of words that exceed the ones available within the verse.\n",
    "print(generate_seq(model, tokenizer, max_length-1, 'Baa baa black sheep', 31))\n",
    "print(generate_seq(model, tokenizer, max_length-1, 'for my master and', 5))\n",
    "print(generate_seq(model, tokenizer, max_length-1, 'one for the dame', 5))\n",
    "print(generate_seq(model, tokenizer, max_length-1, 'boy who lives down', 5))"
   ]
  },
  {
   "cell_type": "code",
   "execution_count": null,
   "id": "8501002c",
   "metadata": {},
   "outputs": [],
   "source": [
    "# Nursery Rhyme Texts\n",
    "\"\"\" Jack and Jill went up the hill\\n\n",
    " To fetch a pail of water\\n\n",
    " Jack fell down and broke his crown\\n\n",
    " And Jill came tumbling after\\n \"\"\",\n",
    "\n",
    "\"\"\"Baa, baa, black sheep\\n\n",
    " Have you any wool?\\n\n",
    " Yes sir, yes sir\\n\n",
    " Three bags full.\\n\n",
    " One for my master\\n\n",
    " And one for the dame\\n\n",
    " One for the little boy\\n\n",
    " Who lives down the lane.\"\"\""
   ]
  },
  {
   "cell_type": "code",
   "execution_count": null,
   "id": "14f757e3",
   "metadata": {},
   "outputs": [],
   "source": []
  }
 ],
 "metadata": {
  "kernelspec": {
   "display_name": "Python 3 (ipykernel)",
   "language": "python",
   "name": "python3"
  },
  "language_info": {
   "codemirror_mode": {
    "name": "ipython",
    "version": 3
   },
   "file_extension": ".py",
   "mimetype": "text/x-python",
   "name": "python",
   "nbconvert_exporter": "python",
   "pygments_lexer": "ipython3",
   "version": "3.9.13"
  }
 },
 "nbformat": 4,
 "nbformat_minor": 5
}
